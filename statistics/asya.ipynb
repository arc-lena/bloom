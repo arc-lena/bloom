{
 "cells": [
  {
   "cell_type": "markdown",
   "source": [
    "Озеленення"
   ],
   "metadata": {
    "collapsed": false
   },
   "id": "5758bc81ca63e0c4"
  },
  {
   "cell_type": "code",
   "outputs": [],
   "source": [
    "import pandas as pd\n",
    "import numpy as np"
   ],
   "metadata": {
    "collapsed": true,
    "ExecuteTime": {
     "end_time": "2024-11-11T18:06:03.698186Z",
     "start_time": "2024-11-11T18:06:03.695265Z"
    }
   },
   "id": "initial_id",
   "execution_count": 80
  },
  {
   "cell_type": "code",
   "outputs": [],
   "source": [
    "geo_data = pd.read_csv('geoMapzelenyy.csv', skiprows=3, header=None)\n",
    "geo_data.columns = ['Region', 'Trend']"
   ],
   "metadata": {
    "collapsed": false,
    "ExecuteTime": {
     "end_time": "2024-11-11T18:06:03.801064Z",
     "start_time": "2024-11-11T18:06:03.793225Z"
    }
   },
   "id": "e3f83e42ecb54c5d",
   "execution_count": 81
  },
  {
   "cell_type": "code",
   "outputs": [
    {
     "name": "stdout",
     "output_type": "stream",
     "text": [
      "                      Region  Trend\n",
      "0  Івано-Франківська область  100.0\n",
      "1         Рівненська область   93.0\n",
      "2           Київська область   92.0\n",
      "3        Хмельницька область   89.0\n",
      "4          Львівська область   80.0\n"
     ]
    }
   ],
   "source": [
    "print(geo_data.head())"
   ],
   "metadata": {
    "collapsed": false,
    "ExecuteTime": {
     "end_time": "2024-11-11T18:06:03.816536Z",
     "start_time": "2024-11-11T18:06:03.810063Z"
    }
   },
   "id": "e0de5209ce89edeb",
   "execution_count": 82
  },
  {
   "cell_type": "code",
   "outputs": [
    {
     "name": "stdout",
     "output_type": "stream",
     "text": [
      "Середнє значення тренду для всіх регіонів: 58.76190476190476\n"
     ]
    }
   ],
   "source": [
    "mean_trend_geo = geo_data['Trend'].mean()\n",
    "\n",
    "print(\"Середнє значення тренду для всіх регіонів:\", mean_trend_geo)"
   ],
   "metadata": {
    "collapsed": false,
    "ExecuteTime": {
     "end_time": "2024-11-11T18:06:03.868722Z",
     "start_time": "2024-11-11T18:06:03.864531Z"
    }
   },
   "id": "b4b424810218bcd1",
   "execution_count": 83
  },
  {
   "cell_type": "markdown",
   "source": [
    "Вище за середнє - за 50, тобто ми можемо стверджувати про актуальність тренду.\n"
   ],
   "metadata": {
    "collapsed": false
   },
   "id": "8c7ab4f6b2422e9b"
  },
  {
   "cell_type": "markdown",
   "source": [
    "### Медіана"
   ],
   "metadata": {
    "collapsed": false
   },
   "id": "1fa62695a2769dc7"
  },
  {
   "cell_type": "code",
   "outputs": [
    {
     "name": "stdout",
     "output_type": "stream",
     "text": [
      "Медіана тренду для всіх регіонів: 67.0\n"
     ]
    }
   ],
   "source": [
    "median_trend_geo = geo_data['Trend'].median()\n",
    "print(\"Медіана тренду для всіх регіонів:\", median_trend_geo)"
   ],
   "metadata": {
    "collapsed": false,
    "ExecuteTime": {
     "end_time": "2024-11-11T18:06:03.902976Z",
     "start_time": "2024-11-11T18:06:03.897719Z"
    }
   },
   "id": "c90d78664b92e917",
   "execution_count": 84
  },
  {
   "cell_type": "markdown",
   "source": [
    "Інтерес вище середнього.\n"
   ],
   "metadata": {
    "collapsed": false
   },
   "id": "98fb23c130ba3d8d"
  },
  {
   "cell_type": "markdown",
   "source": [
    "### Cтандартне відхилення\n"
   ],
   "metadata": {
    "collapsed": false
   },
   "id": "fec6186f2b7e3ac3"
  },
  {
   "cell_type": "code",
   "outputs": [
    {
     "name": "stdout",
     "output_type": "stream",
     "text": [
      "Стандартне відхилення тренду для всіх регіонів: 28.0747302069045\n"
     ]
    }
   ],
   "source": [
    "std_trend_geo = geo_data['Trend'].std()\n",
    "print(\"Стандартне відхилення тренду для всіх регіонів:\", std_trend_geo)"
   ],
   "metadata": {
    "collapsed": false,
    "ExecuteTime": {
     "end_time": "2024-11-11T18:06:03.922277Z",
     "start_time": "2024-11-11T18:06:03.917486Z"
    }
   },
   "id": "7507ceaf438bc8f1",
   "execution_count": 85
  },
  {
   "cell_type": "markdown",
   "source": [
    "Високе стандартне відхилення - стабільно розподільно тренд по регіонам."
   ],
   "metadata": {
    "collapsed": false
   },
   "id": "14874358372f9d2c"
  },
  {
   "cell_type": "markdown",
   "source": [
    "### Мінімум та максимум"
   ],
   "metadata": {
    "collapsed": false
   },
   "id": "3f52a36629d9c2a6"
  },
  {
   "cell_type": "code",
   "outputs": [
    {
     "name": "stdout",
     "output_type": "stream",
     "text": [
      "Мінімум 1.0 та максимум 100.0.\n"
     ]
    }
   ],
   "source": [
    "min_trend_geo = geo_data['Trend'].min()\n",
    "max_trend_geo = geo_data['Trend'].max()\n",
    "print(f\"Мінімум {min_trend_geo} та максимум {max_trend_geo}.\")"
   ],
   "metadata": {
    "collapsed": false,
    "ExecuteTime": {
     "end_time": "2024-11-11T18:06:03.980973Z",
     "start_time": "2024-11-11T18:06:03.975285Z"
    }
   },
   "id": "44a4b187e73c05a",
   "execution_count": 86
  },
  {
   "cell_type": "markdown",
   "source": [
    "### Мода"
   ],
   "metadata": {
    "collapsed": false
   },
   "id": "404e4baf711daa6f"
  },
  {
   "cell_type": "code",
   "outputs": [
    {
     "name": "stdout",
     "output_type": "stream",
     "text": [
      "Мода тренду для всіх регіонів: [40. 73.]\n"
     ]
    }
   ],
   "source": [
    "mode_trend_geo = geo_data['Trend'].mode()\n",
    "print(\"Мода тренду для всіх регіонів:\", mode_trend_geo.values)"
   ],
   "metadata": {
    "collapsed": false,
    "ExecuteTime": {
     "end_time": "2024-11-11T18:06:04.009049Z",
     "start_time": "2024-11-11T18:06:03.999974Z"
    }
   },
   "id": "d3e0636be548f2f1",
   "execution_count": 87
  },
  {
   "cell_type": "markdown",
   "source": [
    "### Дисперсія"
   ],
   "metadata": {
    "collapsed": false
   },
   "id": "baeb3f171331d71f"
  },
  {
   "cell_type": "code",
   "outputs": [
    {
     "name": "stdout",
     "output_type": "stream",
     "text": [
      "Дисперсія тренду для всіх регіонів: 788.1904761904761\n"
     ]
    }
   ],
   "source": [
    "var_trend_geo = geo_data['Trend'].var()\n",
    "print(\"Дисперсія тренду для всіх регіонів:\", var_trend_geo)\n"
   ],
   "metadata": {
    "collapsed": false,
    "ExecuteTime": {
     "end_time": "2024-11-11T18:06:04.101703Z",
     "start_time": "2024-11-11T18:06:04.095482Z"
    }
   },
   "id": "cb668bae7b1474f4",
   "execution_count": 88
  },
  {
   "cell_type": "code",
   "outputs": [],
   "source": [
    "geo_data['Normalized'] = (geo_data['Trend'] - geo_data['Trend'].min()) / (geo_data['Trend'].max() - geo_data['Trend'].min())"
   ],
   "metadata": {
    "collapsed": false,
    "ExecuteTime": {
     "end_time": "2024-11-11T18:06:04.130794Z",
     "start_time": "2024-11-11T18:06:04.123703Z"
    }
   },
   "id": "56365fe7b0f2c914",
   "execution_count": 89
  },
  {
   "cell_type": "code",
   "outputs": [
    {
     "data": {
      "text/plain": "np.float64(0.08041939355070668)"
     },
     "execution_count": 90,
     "metadata": {},
     "output_type": "execute_result"
    }
   ],
   "source": [
    "geo_data['Normalized'].var()"
   ],
   "metadata": {
    "collapsed": false,
    "ExecuteTime": {
     "end_time": "2024-11-11T18:06:04.191933Z",
     "start_time": "2024-11-11T18:06:04.185799Z"
    }
   },
   "id": "56d88599dff1f84c",
   "execution_count": 90
  },
  {
   "cell_type": "code",
   "outputs": [
    {
     "data": {
      "text/plain": "np.float64(0.2835831334030758)"
     },
     "execution_count": 91,
     "metadata": {},
     "output_type": "execute_result"
    }
   ],
   "source": [
    "geo_data['Normalized'].std()"
   ],
   "metadata": {
    "collapsed": false,
    "ExecuteTime": {
     "end_time": "2024-11-11T18:06:04.216259Z",
     "start_time": "2024-11-11T18:06:04.209933Z"
    }
   },
   "id": "2c17debea8210451",
   "execution_count": 91
  }
 ],
 "metadata": {
  "kernelspec": {
   "display_name": "Python 3",
   "language": "python",
   "name": "python3"
  },
  "language_info": {
   "codemirror_mode": {
    "name": "ipython",
    "version": 2
   },
   "file_extension": ".py",
   "mimetype": "text/x-python",
   "name": "python",
   "nbconvert_exporter": "python",
   "pygments_lexer": "ipython2",
   "version": "2.7.6"
  }
 },
 "nbformat": 4,
 "nbformat_minor": 5
}
