{
 "cells": [
  {
   "cell_type": "code",
   "execution_count": 2,
   "id": "01bbb445-752c-47ff-ad6f-0c767aa3ae5e",
   "metadata": {},
   "outputs": [],
   "source": [
    "import pandas as pd\n",
    "import numpy as np"
   ]
  },
  {
   "cell_type": "code",
   "execution_count": 3,
   "id": "cb1a884b-6ae8-415b-87a3-7a2a297f804a",
   "metadata": {},
   "outputs": [],
   "source": [
    "geo_data = pd.read_csv('geoMap.csv', skiprows=3, header=None)\n",
    "year_data = pd.read_csv('multiTimeline (2).csv', skiprows=3, header=None)\n",
    "geo_data.columns = ['Region', 'Trend']\n",
    "year_data.columns = ['Date', 'Trend']"
   ]
  },
  {
   "cell_type": "code",
   "execution_count": 4,
   "id": "29634ff6-860e-426b-bf90-bfeb094f6cf8",
   "metadata": {},
   "outputs": [
    {
     "name": "stdout",
     "output_type": "stream",
     "text": [
      "                  Region  Trend\n",
      "0      Zaporiz'ka oblast    100\n",
      "1  Kirovohrads'ka oblast     97\n",
      "2  Dnipropetrovsk Oblast     95\n",
      "3    Mykolaivs'ka oblast     93\n",
      "4         Kharkiv Oblast     90\n",
      "         Date  Trend\n",
      "0  2023-10-22     84\n",
      "1  2023-10-29     79\n",
      "2  2023-11-05     74\n",
      "3  2023-11-12     80\n",
      "4  2023-11-19     74\n"
     ]
    }
   ],
   "source": [
    "print(geo_data.head())\n",
    "print(year_data.head())"
   ]
  },
  {
   "cell_type": "markdown",
   "id": "14ed2244-4d18-4816-9800-4c76150899b9",
   "metadata": {},
   "source": [
    "Описова статистика"
   ]
  },
  {
   "cell_type": "markdown",
   "id": "ad661d66-b4e2-4fe7-bd18-23098f227182",
   "metadata": {},
   "source": [
    "- середнє значення"
   ]
  },
  {
   "cell_type": "code",
   "execution_count": 5,
   "id": "d4e75c7a-8e08-48f3-88cf-2fe14164ceb2",
   "metadata": {},
   "outputs": [
    {
     "name": "stdout",
     "output_type": "stream",
     "text": [
      "Середнє значення тренду для всіх регіонів: 77.70370370370371\n"
     ]
    }
   ],
   "source": [
    "mean_trend_geo = geo_data['Trend'].mean()\n",
    "\n",
    "print(\"Середнє значення тренду для всіх регіонів:\", mean_trend_geo)"
   ]
  },
  {
   "cell_type": "markdown",
   "id": "2541794e-7fdc-48b2-824f-d3c026a20e8c",
   "metadata": {},
   "source": [
    "Вище за середнє - за 50, тобто ми можемо стверджувати про актуальність тренду."
   ]
  },
  {
   "cell_type": "markdown",
   "id": "33b61ca6-9def-4d2c-9910-e3f2483628d5",
   "metadata": {},
   "source": [
    "- медіана"
   ]
  },
  {
   "cell_type": "code",
   "execution_count": 6,
   "id": "e4247f85-b491-47e9-b3e1-833521a584b5",
   "metadata": {},
   "outputs": [
    {
     "name": "stdout",
     "output_type": "stream",
     "text": [
      "Медіана тренду для всіх регіонів: 80.0\n"
     ]
    }
   ],
   "source": [
    "median_trend_geo = geo_data['Trend'].median()\n",
    "print(\"Медіана тренду для всіх регіонів:\", median_trend_geo)"
   ]
  },
  {
   "cell_type": "markdown",
   "id": "f363bf97-55ad-4872-a83d-7f452058bb44",
   "metadata": {},
   "source": [
    "Досить високий інтерес."
   ]
  },
  {
   "cell_type": "markdown",
   "id": "9a7e0acb-5910-4dee-9bc1-6af86e3f826d",
   "metadata": {},
   "source": [
    "- стандартне відхилення"
   ]
  },
  {
   "cell_type": "code",
   "execution_count": 7,
   "id": "fb0d770b-1210-44db-969e-22fdea27451e",
   "metadata": {},
   "outputs": [
    {
     "name": "stdout",
     "output_type": "stream",
     "text": [
      "Стандартне відхилення тренду для всіх регіонів: 11.694228737073075\n"
     ]
    }
   ],
   "source": [
    "std_trend_geo = geo_data['Trend'].std()\n",
    "print(\"Стандартне відхилення тренду для всіх регіонів:\", std_trend_geo)"
   ]
  },
  {
   "cell_type": "markdown",
   "id": "d5e9d26e-60ff-4b87-a5bc-6975c7492254",
   "metadata": {},
   "source": [
    "Високе стандартне відхилення - стабільно розподільно тренд по регіонам."
   ]
  },
  {
   "cell_type": "markdown",
   "id": "d6d9b6ba-3a35-41c9-8908-1337599a4ba1",
   "metadata": {},
   "source": [
    "- мін та макс"
   ]
  },
  {
   "cell_type": "code",
   "execution_count": 8,
   "id": "b143eae3-c601-4220-bed1-8ea2af0d9a39",
   "metadata": {},
   "outputs": [
    {
     "name": "stdout",
     "output_type": "stream",
     "text": [
      "Мінімум 60 та максимум 100.\n"
     ]
    }
   ],
   "source": [
    "min_trend_geo = geo_data['Trend'].min()\n",
    "max_trend_geo = geo_data['Trend'].max()\n",
    "print(f\"Мінімум {min_trend_geo} та максимум {max_trend_geo}.\")"
   ]
  },
  {
   "cell_type": "markdown",
   "id": "f265c70e-b2c0-4e36-9b0a-35c8a7f42397",
   "metadata": {},
   "source": [
    "- мода"
   ]
  },
  {
   "cell_type": "code",
   "execution_count": 9,
   "id": "7ccda038-c522-415c-bbf2-f4f674f4ad34",
   "metadata": {},
   "outputs": [
    {
     "name": "stdout",
     "output_type": "stream",
     "text": [
      "Мода тренду для всіх регіонів: [60 68 80 83 84]\n"
     ]
    }
   ],
   "source": [
    "mode_trend_geo = geo_data['Trend'].mode()\n",
    "print(\"Мода тренду для всіх регіонів:\", mode_trend_geo.values)"
   ]
  },
  {
   "cell_type": "markdown",
   "id": "3c9bfc97-bb1a-47c4-b8b5-39a174225583",
   "metadata": {},
   "source": [
    "- дисперсія"
   ]
  },
  {
   "cell_type": "code",
   "execution_count": 10,
   "id": "8d962312-94c3-494d-8b42-e13f9fc42601",
   "metadata": {},
   "outputs": [
    {
     "name": "stdout",
     "output_type": "stream",
     "text": [
      "Дисперсія тренду для всіх регіонів: 136.75498575498574\n"
     ]
    }
   ],
   "source": [
    "var_trend_geo = geo_data['Trend'].var()\n",
    "print(\"Дисперсія тренду для всіх регіонів:\", var_trend_geo)"
   ]
  },
  {
   "cell_type": "code",
   "execution_count": 11,
   "id": "44aabe0e-d0e8-4ead-9e52-cf4cb9694a26",
   "metadata": {},
   "outputs": [],
   "source": [
    "geo_data['Normalized'] = (geo_data['Trend'] - geo_data['Trend'].min()) / (geo_data['Trend'].max() - geo_data['Trend'].min())\n"
   ]
  },
  {
   "cell_type": "code",
   "execution_count": 12,
   "id": "73f67492-935e-484a-bd33-73182f167151",
   "metadata": {},
   "outputs": [
    {
     "data": {
      "text/plain": [
       "0.08547186609686609"
      ]
     },
     "execution_count": 12,
     "metadata": {},
     "output_type": "execute_result"
    }
   ],
   "source": [
    "geo_data['Normalized'].var()"
   ]
  },
  {
   "cell_type": "code",
   "execution_count": 13,
   "id": "f6a10566-f60c-4450-8841-4c4dcd361c1e",
   "metadata": {},
   "outputs": [
    {
     "data": {
      "text/plain": [
       "0.2923557184268269"
      ]
     },
     "execution_count": 13,
     "metadata": {},
     "output_type": "execute_result"
    }
   ],
   "source": [
    "geo_data['Normalized'].std()"
   ]
  },
  {
   "cell_type": "code",
   "execution_count": null,
   "id": "0dc3a3b5-388d-45e6-a2d9-7ccd8150e129",
   "metadata": {},
   "outputs": [],
   "source": []
  },
  {
   "cell_type": "code",
   "execution_count": null,
   "id": "7a679910-1543-452a-90c9-2a26697b8a5f",
   "metadata": {},
   "outputs": [],
   "source": []
  },
  {
   "cell_type": "markdown",
   "id": "0285e993-859b-4c9a-9694-658902fe9e4a",
   "metadata": {},
   "source": [
    "Розподіл даних: Визначення, як дані розподілені в часі.\n",
    "\n",
    "1. Візуалізація часових рядів\n",
    "Створіть графік часового ряду, щоб візуально оцінити, як інтерес змінювався в часі. Це допоможе ідентифікувати тренди, циклічні зміни, або несподівані стрибки в дані.\n",
    "\n",
    "2. Гістограма\n",
    "Гістограма допоможе вам зрозуміти розподіл частот актуальності запиту. Ви зможете побачити, чи є розподіл нормальним, як часто зустрічаються певні значення, і чи є викиди.\n",
    "\n",
    "3. Боксплот\n",
    "Боксплот візуалізує розподіл даних через квартилі, допомагаючи виявити медіану, квартильні діапазони та викиди. Це важливо для оцінки рівномірності та аномалій у розподілі даних.\n",
    "\n",
    "4. Аналіз тренду і сезонності\n",
    "Додатково, ви можете аналізувати дані на наявність трендів і сезонних варіацій. Для цього можна використати декомпозицію часових рядів, що розділяє дані на тренд, сезонність і залишкову компоненту."
   ]
  },
  {
   "cell_type": "markdown",
   "id": "6d153ae6-37ef-4bfe-919b-057cfba02108",
   "metadata": {},
   "source": [
    "Аналіз часових рядів\n",
    "\n",
    "1. Тренди: Виявлення довгострокових змін в інтересі до терміна.\n",
    "   \n",
    "2. Сезонність: Дослідження періодичних коливань, якщо вони існують.\n",
    "\n",
    "\n",
    "3. Автокореляція: Аналіз кореляції між значеннями індексу в різні моменти часу."
   ]
  },
  {
   "cell_type": "markdown",
   "id": "c59a6354-c30c-4532-9dcb-f1bb311638ea",
   "metadata": {},
   "source": [
    "Перевірка гіпотез\n",
    "   \n",
    "1. Порівняльний аналіз: Використання t-тесту або ANOVA для порівняння середніх значень у різні періоди часу або сезони.(краще t-test)\n",
    "t-тест ефективний, коли порівнюються середні двох груп. Це може бути корисно, наприклад, для порівняння інтересу до пластику перед і після великої екологічної кампанії. тобто варто пошукати якусь екологічну подію за ті дати які в датасеті щоб порівняти наприклад чи вона вплинула"
   ]
  },
  {
   "cell_type": "markdown",
   "id": "7fbe3be8-b0a7-437d-be0e-0a814d399d5e",
   "metadata": {},
   "source": []
  }
 ],
 "metadata": {
  "kernelspec": {
   "display_name": "Python 3 (ipykernel)",
   "language": "python",
   "name": "python3"
  },
  "language_info": {
   "codemirror_mode": {
    "name": "ipython",
    "version": 3
   },
   "file_extension": ".py",
   "mimetype": "text/x-python",
   "name": "python",
   "nbconvert_exporter": "python",
   "pygments_lexer": "ipython3",
   "version": "3.12.2"
  }
 },
 "nbformat": 4,
 "nbformat_minor": 5
}
