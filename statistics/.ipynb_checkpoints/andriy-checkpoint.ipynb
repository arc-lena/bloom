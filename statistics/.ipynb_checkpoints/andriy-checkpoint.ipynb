{
 "cells": [
  {
   "cell_type": "markdown",
   "id": "26764d93-d8e6-4ba9-8911-7248ccc6feea",
   "metadata": {},
   "source": [
    "Сортування сміття"
   ]
  },
  {
   "cell_type": "code",
   "execution_count": 16,
   "id": "cda87ec4-3e80-46d9-ae1f-460993b51da4",
   "metadata": {},
   "outputs": [],
   "source": [
    "import pandas as pd\n",
    "import numpy as np"
   ]
  },
  {
   "cell_type": "code",
   "execution_count": 17,
   "id": "290fc001-bf0a-4502-a132-e87de4975f56",
   "metadata": {},
   "outputs": [],
   "source": [
    "geo_data = pd.read_csv('geoMap_sort.csv', skiprows=3, header=None)\n",
    "geo_data.columns = ['Region', 'Trend']"
   ]
  },
  {
   "cell_type": "code",
   "execution_count": 18,
   "id": "6ed0224c-613c-41ad-a996-7a567793c3a0",
   "metadata": {},
   "outputs": [
    {
     "name": "stdout",
     "output_type": "stream",
     "text": [
      "                 Region  Trend\n",
      "0    Рівненська область  100.0\n",
      "1  Закарпатська область   91.0\n",
      "2     Волинська область   82.0\n",
      "3   Чернівецька область   80.0\n",
      "4   Хмельницька область   80.0\n"
     ]
    }
   ],
   "source": [
    "print(geo_data.head())"
   ]
  },
  {
   "cell_type": "markdown",
   "id": "a140a894-d788-4159-a214-2d1dfb3f1827",
   "metadata": {},
   "source": [
    "Описова статистика"
   ]
  },
  {
   "cell_type": "markdown",
   "id": "f6acf873-d36b-47c4-a8ff-b685eee311dc",
   "metadata": {},
   "source": [
    "Середнє значення"
   ]
  },
  {
   "cell_type": "code",
   "execution_count": 19,
   "id": "3dd95745-8196-40f1-8701-4902a1095656",
   "metadata": {},
   "outputs": [
    {
     "name": "stdout",
     "output_type": "stream",
     "text": [
      "Середнє значення тренду для всіх регіонів: 62.08695652173913\n"
     ]
    }
   ],
   "source": [
    "mean_trend_geo = geo_data['Trend'].mean()\n",
    "print(\"Середнє значення тренду для всіх регіонів:\", mean_trend_geo)"
   ]
  },
  {
   "cell_type": "markdown",
   "id": "730c0043-110d-4f04-ac38-31d6baa652e1",
   "metadata": {},
   "source": [
    "Трохи вище за середнє - за 50, тобто ми можемо стверджувати про актуальність тренду."
   ]
  },
  {
   "cell_type": "markdown",
   "id": "df27c9d0-e3f9-4721-ad84-9a17d6896525",
   "metadata": {},
   "source": [
    "Шукаємо медіану"
   ]
  },
  {
   "cell_type": "code",
   "execution_count": 20,
   "id": "30afd8f5-cfa0-4e85-a383-cdb5422346e6",
   "metadata": {},
   "outputs": [
    {
     "name": "stdout",
     "output_type": "stream",
     "text": [
      "Медіана тренду для всіх регіонів: 63.0\n"
     ]
    }
   ],
   "source": [
    "median_trend_geo = geo_data['Trend'].median()\n",
    "print(\"Медіана тренду для всіх регіонів:\", median_trend_geo)"
   ]
  },
  {
   "cell_type": "markdown",
   "id": "c1746346-d618-4b1d-bb5c-adc844324451",
   "metadata": {},
   "source": [
    "Середній інтерес(63)"
   ]
  },
  {
   "cell_type": "markdown",
   "id": "ff0e8f10-a5fe-49c9-9d6f-091538c52279",
   "metadata": {},
   "source": [
    "Стандартне відхилення"
   ]
  },
  {
   "cell_type": "code",
   "execution_count": 21,
   "id": "a84e5587-e751-4b4b-92cb-f9f2a82a3291",
   "metadata": {},
   "outputs": [
    {
     "name": "stdout",
     "output_type": "stream",
     "text": [
      "Стандартне відхилення тренду для всіх регіонів: 19.577150511103177\n"
     ]
    }
   ],
   "source": [
    "std_trend_geo = geo_data['Trend'].std()\n",
    "print(\"Стандартне відхилення тренду для всіх регіонів:\", std_trend_geo)"
   ]
  },
  {
   "cell_type": "markdown",
   "id": "787212ae-3422-4567-a32c-263360f21789",
   "metadata": {},
   "source": [
    "Високе стандартне відхилення - стабільно розподільно тренд по регіонам."
   ]
  },
  {
   "cell_type": "markdown",
   "id": "d0c548d6-9a17-4ffd-9c17-4d4fd4bed9a4",
   "metadata": {},
   "source": [
    "Мінімум та максимум"
   ]
  },
  {
   "cell_type": "code",
   "execution_count": 22,
   "id": "d384e426-019d-4223-896c-f09ac39b545f",
   "metadata": {},
   "outputs": [
    {
     "name": "stdout",
     "output_type": "stream",
     "text": [
      "Мінімум 26.0 та максимум 100.0.\n"
     ]
    }
   ],
   "source": [
    "min_trend_geo = geo_data['Trend'].min()\n",
    "max_trend_geo = geo_data['Trend'].max()\n",
    "print(f\"Мінімум {min_trend_geo} та максимум {max_trend_geo}.\")"
   ]
  },
  {
   "cell_type": "markdown",
   "id": "637ad354-0dfd-49ae-9f99-3c321cf7a9df",
   "metadata": {},
   "source": [
    "Мода"
   ]
  },
  {
   "cell_type": "code",
   "execution_count": 23,
   "id": "4cad290b-ea29-450b-82bc-da0e300ab958",
   "metadata": {},
   "outputs": [
    {
     "name": "stdout",
     "output_type": "stream",
     "text": [
      "Мода тренду для всіх регіонів: [37. 61. 63. 80.]\n"
     ]
    }
   ],
   "source": [
    "mode_trend_geo = geo_data['Trend'].mode()\n",
    "print(\"Мода тренду для всіх регіонів:\", mode_trend_geo.values)"
   ]
  },
  {
   "cell_type": "markdown",
   "id": "c30e2eba-633f-457e-9d48-50e4d00de255",
   "metadata": {},
   "source": [
    "Найпопулярніші значення досить рівномірно розподілені"
   ]
  },
  {
   "cell_type": "markdown",
   "id": "353b8697-4811-4054-b261-d9987915779a",
   "metadata": {},
   "source": [
    "Дисперсія"
   ]
  },
  {
   "cell_type": "code",
   "execution_count": 26,
   "id": "b506541a-0d61-4dc4-90db-f964390ce4e6",
   "metadata": {},
   "outputs": [
    {
     "name": "stdout",
     "output_type": "stream",
     "text": [
      "Дисперсія тренду для всіх регіонів: 383.2648221343874\n"
     ]
    }
   ],
   "source": [
    "var_trend_geo = geo_data['Trend'].var()\n",
    "print(\"Дисперсія тренду для всіх регіонів:\", var_trend_geo)"
   ]
  },
  {
   "cell_type": "code",
   "execution_count": 27,
   "id": "3bc7152d-8f3d-43a6-b511-f87334ff0f5d",
   "metadata": {},
   "outputs": [],
   "source": [
    "geo_data['Normalized'] = (geo_data['Trend'] - geo_data['Trend'].min()) / (geo_data['Trend'].max() - geo_data['Trend'].min())"
   ]
  },
  {
   "cell_type": "code",
   "execution_count": 28,
   "id": "c7a857ec-7ea0-4c50-8237-d784ef1d31f0",
   "metadata": {},
   "outputs": [
    {
     "data": {
      "text/plain": [
       "0.06998992369145131"
      ]
     },
     "execution_count": 28,
     "metadata": {},
     "output_type": "execute_result"
    }
   ],
   "source": [
    "geo_data['Normalized'].var()"
   ]
  },
  {
   "cell_type": "code",
   "execution_count": 29,
   "id": "45621c8b-33e1-42d0-8e92-34c7fc2564b9",
   "metadata": {},
   "outputs": [
    {
     "data": {
      "text/plain": [
       "0.2645560879878808"
      ]
     },
     "execution_count": 29,
     "metadata": {},
     "output_type": "execute_result"
    }
   ],
   "source": [
    "geo_data['Normalized'].std()"
   ]
  }
 ],
 "metadata": {
  "kernelspec": {
   "display_name": "Python 3 (ipykernel)",
   "language": "python",
   "name": "python3"
  },
  "language_info": {
   "codemirror_mode": {
    "name": "ipython",
    "version": 3
   },
   "file_extension": ".py",
   "mimetype": "text/x-python",
   "name": "python",
   "nbconvert_exporter": "python",
   "pygments_lexer": "ipython3",
   "version": "3.10.7"
  }
 },
 "nbformat": 4,
 "nbformat_minor": 5
}
