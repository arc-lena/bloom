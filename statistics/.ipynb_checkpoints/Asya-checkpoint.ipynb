{
 "cells": [
  {
   "cell_type": "markdown",
   "source": [
    "Сортування сміття\n"
   ],
   "metadata": {
    "collapsed": false
   },
   "id": "4c7884bfcac40b06"
  },
  {
   "cell_type": "code",
   "outputs": [],
   "source": [
    "import pandas as pd\n",
    "import numpy as np"
   ],
   "metadata": {
    "collapsed": false,
    "is_executing": true
   },
   "id": "92caff76c8b8d1f"
  },
  {
   "cell_type": "code",
   "outputs": [],
   "source": [
    "year_data = pd.read_csv('multiTimeline (1).csv', skiprows=3, header=None)\n",
    "year_data.columns = ['Date', 'Trend']"
   ],
   "metadata": {
    "collapsed": false
   },
   "id": "227a5b231fc57ea0"
  }
 ],
 "metadata": {
  "kernelspec": {
   "display_name": "Python 3",
   "language": "python",
   "name": "python3"
  },
  "language_info": {
   "codemirror_mode": {
    "name": "ipython",
    "version": 2
   },
   "file_extension": ".py",
   "mimetype": "text/x-python",
   "name": "python",
   "nbconvert_exporter": "python",
   "pygments_lexer": "ipython2",
   "version": "2.7.6"
  }
 },
 "nbformat": 4,
 "nbformat_minor": 5
}
