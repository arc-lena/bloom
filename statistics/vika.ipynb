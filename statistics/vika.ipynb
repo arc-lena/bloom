{
 "cells": [
  {
   "cell_type": "code",
   "execution_count": 25,
   "metadata": {
    "vscode": {
     "languageId": "plaintext"
    }
   },
   "outputs": [],
   "source": [
    "import pandas as pd\n",
    "import numpy as np"
   ]
  },
  {
   "cell_type": "code",
   "execution_count": 26,
   "metadata": {},
   "outputs": [],
   "source": [
    "geo_data = pd.read_csv('geoMapv.csv', skiprows=3, header=None)\n",
    "year_data = pd.read_csv('multiTimelinev.csv', skiprows=3, header=None)\n",
    "geo_data.columns = ['Region', 'Trend']\n",
    "year_data.columns = ['Date', 'Trend']"
   ]
  },
  {
   "cell_type": "code",
   "execution_count": 27,
   "metadata": {},
   "outputs": [
    {
     "name": "stdout",
     "output_type": "stream",
     "text": [
      "                      Region  Trend\n",
      "0  Івано-Франківська область  100.0\n",
      "1         Рівненська область   99.0\n",
      "2          Вінницька область   92.0\n",
      "3          Черкаська область   91.0\n",
      "4       Закарпатська область   90.0\n",
      "         Date  Trend\n",
      "0  2023-11-12     38\n",
      "1  2023-11-19     34\n",
      "2  2023-11-26     37\n",
      "3  2023-12-03     34\n",
      "4  2023-12-10     47\n"
     ]
    }
   ],
   "source": [
    "print(geo_data.head())\n",
    "print(year_data.head())"
   ]
  },
  {
   "cell_type": "markdown",
   "metadata": {},
   "source": [
    "Описова статистика"
   ]
  },
  {
   "cell_type": "markdown",
   "metadata": {},
   "source": [
    "- середнє значення"
   ]
  },
  {
   "cell_type": "code",
   "execution_count": 28,
   "metadata": {},
   "outputs": [
    {
     "name": "stdout",
     "output_type": "stream",
     "text": [
      "Середнє значення тренду для всіх регіонів: 76.70833333333333\n"
     ]
    }
   ],
   "source": [
    "mean_trend_geo = geo_data['Trend'].mean()\n",
    "\n",
    "print(\"Середнє значення тренду для всіх регіонів:\", mean_trend_geo)"
   ]
  },
  {
   "cell_type": "markdown",
   "metadata": {},
   "source": [
    "Вище за середнє - за 50, тобто ми можемо стверджувати про актуальність тренду."
   ]
  },
  {
   "cell_type": "markdown",
   "metadata": {},
   "source": [
    "- медіана"
   ]
  },
  {
   "cell_type": "code",
   "execution_count": 29,
   "metadata": {},
   "outputs": [
    {
     "name": "stdout",
     "output_type": "stream",
     "text": [
      "Медіана тренду для всіх регіонів: 80.0\n"
     ]
    }
   ],
   "source": [
    "median_trend_geo = geo_data['Trend'].median()\n",
    "print(\"Медіана тренду для всіх регіонів:\", median_trend_geo)"
   ]
  },
  {
   "cell_type": "markdown",
   "metadata": {},
   "source": [
    "Досить високий інтерес."
   ]
  },
  {
   "cell_type": "markdown",
   "metadata": {},
   "source": [
    "- стандартне відхилення"
   ]
  },
  {
   "cell_type": "code",
   "execution_count": 30,
   "metadata": {},
   "outputs": [
    {
     "name": "stdout",
     "output_type": "stream",
     "text": [
      "Стандартне відхилення тренду для всіх регіонів: 16.174266105699232\n"
     ]
    }
   ],
   "source": [
    "std_trend_geo = geo_data['Trend'].std()\n",
    "print(\"Стандартне відхилення тренду для всіх регіонів:\", std_trend_geo)"
   ]
  },
  {
   "cell_type": "markdown",
   "metadata": {},
   "source": [
    "Високе стандартне відхилення - стабільно розподільно тренд по регіонам."
   ]
  },
  {
   "cell_type": "markdown",
   "metadata": {},
   "source": [
    "- мін та макс"
   ]
  },
  {
   "cell_type": "code",
   "execution_count": 31,
   "metadata": {},
   "outputs": [
    {
     "name": "stdout",
     "output_type": "stream",
     "text": [
      "Мінімум 42.0 та максимум 100.0.\n"
     ]
    }
   ],
   "source": [
    "min_trend_geo = geo_data['Trend'].min()\n",
    "max_trend_geo = geo_data['Trend'].max()\n",
    "print(f\"Мінімум {min_trend_geo} та максимум {max_trend_geo}.\")"
   ]
  },
  {
   "cell_type": "markdown",
   "metadata": {},
   "source": [
    "- мода"
   ]
  },
  {
   "cell_type": "code",
   "execution_count": 32,
   "metadata": {},
   "outputs": [
    {
     "name": "stdout",
     "output_type": "stream",
     "text": [
      "Мода тренду для всіх регіонів: [90.]\n"
     ]
    }
   ],
   "source": [
    "mode_trend_geo = geo_data['Trend'].mode()\n",
    "print(\"Мода тренду для всіх регіонів:\", mode_trend_geo.values)"
   ]
  },
  {
   "cell_type": "code",
   "execution_count": 33,
   "metadata": {},
   "outputs": [
    {
     "name": "stdout",
     "output_type": "stream",
     "text": [
      "Дисперсія тренду для всіх регіонів: 261.606884057971\n"
     ]
    }
   ],
   "source": [
    "var_trend_geo = geo_data['Trend'].var()\n",
    "print(\"Дисперсія тренду для всіх регіонів:\", var_trend_geo)"
   ]
  },
  {
   "cell_type": "code",
   "execution_count": 34,
   "metadata": {},
   "outputs": [],
   "source": [
    "geo_data['Normalized'] = (geo_data['Trend'] - geo_data['Trend'].min()) / (geo_data['Trend'].max() - geo_data['Trend'].min())"
   ]
  },
  {
   "cell_type": "code",
   "execution_count": 35,
   "metadata": {},
   "outputs": [
    {
     "data": {
      "text/plain": [
       "np.float64(0.07776661238346344)"
      ]
     },
     "execution_count": 35,
     "metadata": {},
     "output_type": "execute_result"
    }
   ],
   "source": [
    "geo_data['Normalized'].var()"
   ]
  },
  {
   "cell_type": "code",
   "execution_count": 36,
   "metadata": {},
   "outputs": [
    {
     "data": {
      "text/plain": [
       "np.float64(0.27886665699481433)"
      ]
     },
     "execution_count": 36,
     "metadata": {},
     "output_type": "execute_result"
    }
   ],
   "source": [
    "geo_data['Normalized'].std()"
   ]
  }
 ],
 "metadata": {
  "kernelspec": {
   "display_name": "Python 3 (ipykernel)",
   "language": "python",
   "name": "python3"
  },
  "language_info": {
   "codemirror_mode": {
    "name": "ipython",
    "version": 3
   },
   "file_extension": ".py",
   "mimetype": "text/x-python",
   "name": "python",
   "nbconvert_exporter": "python",
   "pygments_lexer": "ipython3",
   "version": "3.13.0"
  }
 },
 "nbformat": 4,
 "nbformat_minor": 4
}
