{
 "cells": [
  {
   "cell_type": "code",
   "execution_count": 2,
   "id": "d0f7598d-3d53-4764-a2f1-4f8139c7f33c",
   "metadata": {},
   "outputs": [],
   "source": [
    "import pandas as pd\n",
    "import numpy as np"
   ]
  },
  {
   "cell_type": "code",
   "execution_count": 5,
   "id": "97453782-e8e1-4bb6-9cae-68f26e7abb72",
   "metadata": {},
   "outputs": [],
   "source": [
    "geo_data = pd.read_csv('geoMap_GlobalWarming.csv', skiprows=3, header=None)\n",
    "year_data = pd.read_csv('multiTimeline_GlobalWarming.csv', skiprows=3, header=None)\n",
    "geo_data.columns = ['Region', 'Trend']\n",
    "year_data.columns = ['Date', 'Trend']"
   ]
  },
  {
   "cell_type": "code",
   "execution_count": 6,
   "id": "ea7e1c66-2d37-4bec-8d1e-1457eceba854",
   "metadata": {},
   "outputs": [
    {
     "name": "stdout",
     "output_type": "stream",
     "text": [
      "               Region  Trend\n",
      "0    Luhans'ka oblast    100\n",
      "1              Crimea     89\n",
      "2    Volyns'ka oblast     85\n",
      "3   Zaporiz'ka oblast     85\n",
      "4  Khersons'ka oblast     82\n",
      "         Date  Trend\n",
      "0  2023-10-15     20\n",
      "1  2023-10-22     21\n",
      "2  2023-10-29     15\n",
      "3  2023-11-05     21\n",
      "4  2023-11-12     14\n"
     ]
    }
   ],
   "source": [
    "print(geo_data.head())\n",
    "print(year_data.head())"
   ]
  },
  {
   "cell_type": "markdown",
   "id": "fc12b6e5-01ac-4674-b6a8-eb504f21c64f",
   "metadata": {},
   "source": [
    "Описова статистика"
   ]
  },
  {
   "cell_type": "markdown",
   "id": "e3ee092e-a920-48fd-9f83-12118ed4e17a",
   "metadata": {},
   "source": [
    "- середнє значення"
   ]
  },
  {
   "cell_type": "code",
   "execution_count": 7,
   "id": "86daf8d4-02b2-4ce7-8ef7-c9face323e39",
   "metadata": {},
   "outputs": [
    {
     "name": "stdout",
     "output_type": "stream",
     "text": [
      "Середнє значення тренду для всіх регіонів: 70.37037037037037\n"
     ]
    }
   ],
   "source": [
    "mean_trend_geo = geo_data['Trend'].mean()\n",
    "\n",
    "print(\"Середнє значення тренду для всіх регіонів:\", mean_trend_geo)"
   ]
  },
  {
   "cell_type": "markdown",
   "id": "649247ac-9248-45d7-b3ef-f53a08e912ff",
   "metadata": {},
   "source": [
    "Вище за середнє - за 50, тобто ми можемо стверджувати про актуальність тренду."
   ]
  },
  {
   "cell_type": "markdown",
   "id": "3a57c78b-96bb-48ac-8567-f54fbac8af9c",
   "metadata": {},
   "source": [
    "- медіана"
   ]
  },
  {
   "cell_type": "code",
   "execution_count": 8,
   "id": "5671ef83-b335-4f59-b94f-3617d8546046",
   "metadata": {},
   "outputs": [
    {
     "name": "stdout",
     "output_type": "stream",
     "text": [
      "Медіана тренду для всіх регіонів: 70.0\n"
     ]
    }
   ],
   "source": [
    "median_trend_geo = geo_data['Trend'].median()\n",
    "print(\"Медіана тренду для всіх регіонів:\", median_trend_geo)"
   ]
  },
  {
   "cell_type": "markdown",
   "id": "5c5d596a-87e8-4161-8cac-c7de49144747",
   "metadata": {},
   "source": [
    "Високий інтерес"
   ]
  },
  {
   "cell_type": "markdown",
   "id": "b4ad5a3d-c089-45e9-b6ae-0f68a0963739",
   "metadata": {},
   "source": [
    "- стандартне відхилення"
   ]
  },
  {
   "cell_type": "code",
   "execution_count": 9,
   "id": "5fea1c84-6852-472b-a732-d48260671983",
   "metadata": {},
   "outputs": [
    {
     "name": "stdout",
     "output_type": "stream",
     "text": [
      "Стандартне відхилення тренду для всіх регіонів: 12.794674818208696\n"
     ]
    }
   ],
   "source": [
    "std_trend_geo = geo_data['Trend'].std()\n",
    "print(\"Стандартне відхилення тренду для всіх регіонів:\", std_trend_geo)"
   ]
  },
  {
   "cell_type": "markdown",
   "id": "60baf736-766e-47e7-b74a-d7715892f5d6",
   "metadata": {},
   "source": [
    "Невелике відхилення, по різних регіонах стабільно висока зацікавленість"
   ]
  },
  {
   "cell_type": "markdown",
   "id": "1700c86d-aea0-47a5-ae78-c6b030a914e4",
   "metadata": {},
   "source": [
    "- мін та макс"
   ]
  },
  {
   "cell_type": "code",
   "execution_count": 10,
   "id": "81f4f1b1-09f0-456d-8e80-e536dbf76057",
   "metadata": {},
   "outputs": [
    {
     "name": "stdout",
     "output_type": "stream",
     "text": [
      "Мінімум 41 та максимум 100.\n"
     ]
    }
   ],
   "source": [
    "min_trend_geo = geo_data['Trend'].min()\n",
    "max_trend_geo = geo_data['Trend'].max()\n",
    "print(f\"Мінімум {min_trend_geo} та максимум {max_trend_geo}.\")"
   ]
  },
  {
   "cell_type": "markdown",
   "id": "30cdaf7b-c4ff-4d06-be7d-cf90f0972c2c",
   "metadata": {},
   "source": [
    "- мода"
   ]
  },
  {
   "cell_type": "code",
   "execution_count": 11,
   "id": "431e694a-3ab0-47dd-b6ff-ad6472042e55",
   "metadata": {},
   "outputs": [
    {
     "name": "stdout",
     "output_type": "stream",
     "text": [
      "Мода тренду для всіх регіонів: [82]\n"
     ]
    }
   ],
   "source": [
    "mode_trend_geo = geo_data['Trend'].mode()\n",
    "print(\"Мода тренду для всіх регіонів:\", mode_trend_geo.values)"
   ]
  },
  {
   "cell_type": "markdown",
   "id": "d97ccc10-65ab-418e-9cb9-77c7c4ef1a96",
   "metadata": {},
   "source": [
    "- дисперсія"
   ]
  },
  {
   "cell_type": "code",
   "execution_count": 12,
   "id": "de163b07-a358-45e7-a0f8-e1b1dbcf7cb0",
   "metadata": {},
   "outputs": [
    {
     "name": "stdout",
     "output_type": "stream",
     "text": [
      "Дисперсія тренду для всіх регіонів: 163.70370370370372\n"
     ]
    }
   ],
   "source": [
    "var_trend_geo = geo_data['Trend'].var()\n",
    "print(\"Дисперсія тренду для всіх регіонів:\", var_trend_geo)"
   ]
  },
  {
   "cell_type": "code",
   "execution_count": 13,
   "id": "b71393f9-a0c4-4860-8847-55983efbca3b",
   "metadata": {},
   "outputs": [],
   "source": [
    "geo_data['Normalized'] = (geo_data['Trend'] - geo_data['Trend'].min()) / (geo_data['Trend'].max() - geo_data['Trend'].min())"
   ]
  },
  {
   "cell_type": "code",
   "execution_count": 14,
   "id": "d6ce2428-5713-4375-92a5-45b0b4ed0a21",
   "metadata": {},
   "outputs": [
    {
     "data": {
      "text/plain": [
       "np.float64(0.047027780437720115)"
      ]
     },
     "execution_count": 14,
     "metadata": {},
     "output_type": "execute_result"
    }
   ],
   "source": [
    "geo_data['Normalized'].var()"
   ]
  },
  {
   "cell_type": "code",
   "execution_count": 15,
   "id": "3c887c1b-c64f-40ad-8427-167057bf8132",
   "metadata": {},
   "outputs": [
    {
     "data": {
      "text/plain": [
       "np.float64(0.2168588952238762)"
      ]
     },
     "execution_count": 15,
     "metadata": {},
     "output_type": "execute_result"
    }
   ],
   "source": [
    "geo_data['Normalized'].std()"
   ]
  }
 ],
 "metadata": {
  "kernelspec": {
   "display_name": "Python 3 (ipykernel)",
   "language": "python",
   "name": "python3"
  },
  "language_info": {
   "codemirror_mode": {
    "name": "ipython",
    "version": 3
   },
   "file_extension": ".py",
   "mimetype": "text/x-python",
   "name": "python",
   "nbconvert_exporter": "python",
   "pygments_lexer": "ipython3",
   "version": "3.12.6"
  }
 },
 "nbformat": 4,
 "nbformat_minor": 5
}
