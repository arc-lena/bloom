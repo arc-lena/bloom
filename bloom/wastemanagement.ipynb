{
 "cells": [
  {
   "cell_type": "code",
   "execution_count": 2,
   "id": "443f5a30-ffc6-4d43-a709-24ce086159f1",
   "metadata": {},
   "outputs": [],
   "source": [
    "import pandas as pd"
   ]
  },
  {
   "cell_type": "code",
   "execution_count": 34,
   "id": "244c83a1-4e69-492b-b244-151732a18690",
   "metadata": {
    "scrolled": true
   },
   "outputs": [],
   "source": [
    "df = pd.read_csv('D:\\\\multiTimeline1.csv', skiprows=3)\n",
    "df.columns = ['Дні', 'Управління відходами']"
   ]
  },
  {
   "cell_type": "code",
   "execution_count": 35,
   "id": "323d98d1-d56e-463f-b567-3ad88a64ce79",
   "metadata": {},
   "outputs": [
    {
     "name": "stdout",
     "output_type": "stream",
     "text": [
      "Середнє: 58.15384615384615\n"
     ]
    }
   ],
   "source": [
    "mean_value = df['Управління відходами'].mean()\n",
    "print(f\"Середнє: {mean_value}\")"
   ]
  },
  {
   "cell_type": "markdown",
   "id": "2b4e6c43-dd93-4d27-83c1-a78d392c5ba5",
   "metadata": {},
   "source": [
    "### Середнє вище 50, це вказуваєна те, що в цілому дані мають позитивну тенденцію."
   ]
  },
  {
   "cell_type": "code",
   "execution_count": 36,
   "id": "8a98a71c-e247-48a9-a0a3-10210c7bd5f3",
   "metadata": {},
   "outputs": [
    {
     "name": "stdout",
     "output_type": "stream",
     "text": [
      "Медіана: 56.0\n"
     ]
    }
   ],
   "source": [
    "median_value = df['Управління відходами'].median()  \n",
    "print(f\"Медіана: {median_value}\")"
   ]
  },
  {
   "cell_type": "markdown",
   "id": "375d7ba6-6688-4392-9e94-5bee7717fa77",
   "metadata": {},
   "source": [
    "### Медіана також перевищує 50, це підтверджує, що більша частина даних розташована на більш високому рівні"
   ]
  },
  {
   "cell_type": "code",
   "execution_count": 37,
   "id": "5ea5dd3f-19a3-4723-ba17-129be1616cc1",
   "metadata": {},
   "outputs": [
    {
     "name": "stdout",
     "output_type": "stream",
     "text": [
      "Стандартне відхилення: 18.19112541160038\n"
     ]
    }
   ],
   "source": [
    "std_value = df['Управління відходами'].std() \n",
    "print(f\"Стандартне відхилення: {std_value}\")"
   ]
  },
  {
   "cell_type": "markdown",
   "id": "bf71bd44-e4ae-4c7e-a702-5fbfe5806eca",
   "metadata": {},
   "source": [
    "### Cтандартне відхилення 18 вказує на те, що дані мають значну варіативність."
   ]
  },
  {
   "cell_type": "code",
   "execution_count": 40,
   "id": "776a28e6-7396-4dec-a7ff-d6d2650a8688",
   "metadata": {},
   "outputs": [
    {
     "name": "stdout",
     "output_type": "stream",
     "text": [
      "Дисперсія: 330.91704374057315\n"
     ]
    }
   ],
   "source": [
    "var_value = df['Управління відходами'].var()\n",
    "print(f\"Дисперсія: {var_value}\")"
   ]
  },
  {
   "cell_type": "markdown",
   "id": "2d0c8934-7d49-466e-8071-a8aca9e94016",
   "metadata": {},
   "source": [
    "### Значення в наборі даних мають значну різницю від середнього, що вказує на розкиданість даних."
   ]
  },
  {
   "cell_type": "code",
   "execution_count": 39,
   "id": "5dd9e0fe-7f15-44f7-9d6c-92e38a674309",
   "metadata": {},
   "outputs": [
    {
     "name": "stdout",
     "output_type": "stream",
     "text": [
      "Мода: 43\n"
     ]
    }
   ],
   "source": [
    "mode_value = df['Управління відходами'].mode()[0]\n",
    "print(f\"Мода: {mode_value}\")"
   ]
  },
  {
   "cell_type": "markdown",
   "id": "54913c04-d562-4ecf-be19-2d85a418e4c1",
   "metadata": {},
   "source": [
    "### Може вказувати на те, що існує значна частина людей, які не зацікавлені в цьому"
   ]
  },
  {
   "cell_type": "code",
   "execution_count": 43,
   "id": "18055eb6-89af-474d-b519-ea2de183691b",
   "metadata": {},
   "outputs": [
    {
     "name": "stdout",
     "output_type": "stream",
     "text": [
      "Мінімальне значення: 0\n"
     ]
    }
   ],
   "source": [
    "min_value = df['Управління відходами'].min()\n",
    "print(f\"Мінімальне значення: {min_value}\")"
   ]
  },
  {
   "cell_type": "markdown",
   "id": "3ef93420-4d0e-4a7b-9ef0-eccec23fdaea",
   "metadata": {},
   "source": [
    "### Мінімум у 0 може свідчити про відсутність певної зацікавленості або активності в аналізованій області."
   ]
  },
  {
   "cell_type": "code",
   "execution_count": 42,
   "id": "36553bed-5127-4c44-98d2-f11d9d8e57ed",
   "metadata": {},
   "outputs": [
    {
     "name": "stdout",
     "output_type": "stream",
     "text": [
      "Максимальне значення: 100\n"
     ]
    }
   ],
   "source": [
    "max_value = df['Управління відходами'].max()\n",
    "print(f\"Максимальне значення: {max_value}\")"
   ]
  },
  {
   "cell_type": "markdown",
   "id": "30ff5d4d-f0c5-426e-8116-6b35dc4cc266",
   "metadata": {},
   "source": [
    "### Значення 100 демонструє можливість досягнення високих результатів"
   ]
  },
  {
   "cell_type": "code",
   "execution_count": null,
   "id": "2ebf194a-41a3-4ce3-8dcb-b418dc297e91",
   "metadata": {},
   "outputs": [],
   "source": []
  }
 ],
 "metadata": {
  "kernelspec": {
   "display_name": "Python 3 (ipykernel)",
   "language": "python",
   "name": "python3"
  },
  "language_info": {
   "codemirror_mode": {
    "name": "ipython",
    "version": 3
   },
   "file_extension": ".py",
   "mimetype": "text/x-python",
   "name": "python",
   "nbconvert_exporter": "python",
   "pygments_lexer": "ipython3",
   "version": "3.12.7"
  }
 },
 "nbformat": 4,
 "nbformat_minor": 5
}
